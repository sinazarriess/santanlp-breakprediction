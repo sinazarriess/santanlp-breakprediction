{
 "cells": [
  {
   "cell_type": "code",
   "execution_count": 1,
   "id": "6307a573",
   "metadata": {},
   "outputs": [],
   "source": [
    "from glob import glob"
   ]
  },
  {
   "cell_type": "code",
   "execution_count": 14,
   "id": "7abb6431",
   "metadata": {},
   "outputs": [],
   "source": [
    "bashf = open(\"run_eval.sh\",\"w\")\n",
    "for f in glob(\"../santanlp-corpus/corpus2/test/*\"):\n",
    "    bashf.write(\"python run_eval.py --in {} --out results/{}\\n\".format(f,f[19:]))\n",
    "bashf.close()"
   ]
  },
  {
   "cell_type": "code",
   "execution_count": 2,
   "id": "e76e4373",
   "metadata": {},
   "outputs": [],
   "source": [
    "bashf = open(\"run_eval2.sh\",\"w\")\n",
    "for f in glob(\"../santanlp-corpus/corpus3/test/*\"):\n",
    "    bashf.write(\"python run_eval.py --in {} --out results/{}\\n\".format(f,f[19:]))\n",
    "for f in glob(\"../santanlp-corpus/corpus4/test/*\"):\n",
    "    bashf.write(\"python run_eval.py --in {} --out results/{}\\n\".format(f,f[19:]))    \n",
    "bashf.close()"
   ]
  },
  {
   "cell_type": "code",
   "execution_count": 3,
   "id": "bc79c204",
   "metadata": {},
   "outputs": [],
   "source": [
    "bashf = open(\"run_eval_random.sh\",\"w\")\n",
    "for f in glob(\"../santanlp-corpus/corpus1/test/*\"):\n",
    "    bashf.write(\"python run_eval.py --in {} --out results/{}\\n\".format(f,f[19:]))   \n",
    "bashf.close()"
   ]
  },
  {
   "cell_type": "code",
   "execution_count": null,
   "id": "8eae20a5",
   "metadata": {},
   "outputs": [],
   "source": []
  },
  {
   "cell_type": "code",
   "execution_count": null,
   "id": "857b4201",
   "metadata": {},
   "outputs": [],
   "source": []
  },
  {
   "cell_type": "code",
   "execution_count": null,
   "id": "dbd35683",
   "metadata": {},
   "outputs": [],
   "source": []
  }
 ],
 "metadata": {
  "kernelspec": {
   "display_name": "Python 3",
   "language": "python",
   "name": "python3"
  },
  "language_info": {
   "codemirror_mode": {
    "name": "ipython",
    "version": 3
   },
   "file_extension": ".py",
   "mimetype": "text/x-python",
   "name": "python",
   "nbconvert_exporter": "python",
   "pygments_lexer": "ipython3",
   "version": "3.8.10"
  }
 },
 "nbformat": 4,
 "nbformat_minor": 5
}
